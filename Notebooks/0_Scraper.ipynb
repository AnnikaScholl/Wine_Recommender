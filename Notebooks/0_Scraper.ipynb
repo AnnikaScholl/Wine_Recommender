{
 "cells": [
  {
   "cell_type": "markdown",
   "metadata": {},
   "source": [
    "# Scraping wine data from vivino"
   ]
  },
  {
   "cell_type": "markdown",
   "metadata": {},
   "source": [
    "***"
   ]
  },
  {
   "cell_type": "markdown",
   "metadata": {},
   "source": [
    "To scrap the wine data from vivino.com, I used the original set-up from the user [Gugarose](https://github.com/gugarosa/viviner).  However, the scraper did not retrieve all the necessary data for my project, such as the wine's price, ratings, and year. Therefore, I made modifications to the scraping code, which will be explained in this notebook. Please note that you will require the folder ***utils*** from [Gugarose](https://github.com/gugarosa/viviner) and his requirements to extract the data (refer to [**Set-up**](#1)).\n",
    "\n",
    "First, the modified scraping code only worked for the first 89 pages, resulting in many duplicates when it started from page 1 again. To avoid this, I created a function that splits up the scraping into smaller steps based on country and price. This ensures that the scraped data does not exceed 2000 wines (see [**Wine Scraper Function**](#2)). Additionally, the modified scraping code only includes necessary data for the project to improve scraping speed.\n",
    "\n",
    "The process for scraping the wines from Vivino is explained in [**Scraping Process**](#3)."
   ]
  },
  {
   "cell_type": "markdown",
   "metadata": {},
   "source": [
    "***"
   ]
  },
  {
   "cell_type": "markdown",
   "metadata": {},
   "source": [
    "## Notebook Contents\n",
    "\n",
    "1. [**Set-up**](#1)<br>\n",
    "\n",
    "2. [**Wine Scraper Function**](#2)<br>\n",
    "    \n",
    "3. [**Scraping Process**](#3)<br>\n",
    "        "
   ]
  },
  {
   "cell_type": "markdown",
   "metadata": {},
   "source": [
    "***"
   ]
  },
  {
   "cell_type": "markdown",
   "metadata": {},
   "source": [
    "# Set-up <a id=\"1\"></a>"
   ]
  },
  {
   "cell_type": "code",
   "execution_count": null,
   "metadata": {},
   "outputs": [],
   "source": [
    "# Import of pandas and constants & requester from utils folder\n",
    "import pandas as pd\n",
    "import utils.constants as c\n",
    "from utils.requester import Requester"
   ]
  },
  {
   "cell_type": "code",
   "execution_count": null,
   "metadata": {},
   "outputs": [],
   "source": [
    "# Base URL\n",
    "BASE_URL = 'https://www.vivino.com/api/'\n",
    "\n",
    "# Number of records per page\n",
    "RECORDS_PER_PAGE = 30"
   ]
  },
  {
   "cell_type": "code",
   "execution_count": null,
   "metadata": {},
   "outputs": [],
   "source": [
    "# Instantiates a wrapper over the `requests` package\n",
    "r = Requester(c.BASE_URL)"
   ]
  },
  {
   "cell_type": "markdown",
   "metadata": {},
   "source": [
    "# Wine Scraper Function <a id=\"2\"></a>"
   ]
  },
  {
   "cell_type": "code",
   "execution_count": null,
   "metadata": {},
   "outputs": [],
   "source": [
    "def wine_scraper(min_price):\n",
    "    #Create an empty dataframe\n",
    "    wine_df = pd.DataFrame()\n",
    "\n",
    "    max_price = min_price + 0.99\n",
    "\n",
    "    # Add arguments to your function that update the payload\n",
    "    payload = {\n",
    "        #\"country_codes[]\": country_code,\n",
    "        # \"food_ids[]\": 20,\n",
    "        # \"grape_ids[]\": 3,\n",
    "        # \"grape_filter\": \"varietal\",\n",
    "        # \"min_rating\": 3.7,\n",
    "        # \"order_by\": \"ratings_average\",\n",
    "        # \"order\": \"desc\",\n",
    "        \"price_range_min\": min_price,\n",
    "        \"price_range_max\": max_price,\n",
    "        # \"region_ids[]\": 383,\n",
    "        # \"wine_style_ids[]\": 98,\n",
    "        \"wine_type_ids[]\": 1, # Red wine\n",
    "        # \"wine_type_ids[]\": 2, # White wine\n",
    "        # \"wine_type_ids[]\": 3, # Sparkling\n",
    "        # \"wine_type_ids[]\": 4,\n",
    "        # \"wine_type_ids[]\": 7,\n",
    "        # \"wine_type_ids[]\": 24,\n",
    "    }\n",
    "    \n",
    "    # Add your code from scrap_wine_data_modified (lines 55-109)\n",
    "    # Performs an initial request to get the number of records (wines)\n",
    "    res = r.get('explore/explore?', params=payload)\n",
    "    n_matches = res.json()['explore_vintage']['records_matched']\n",
    "\n",
    "    print(f'Number of matches: {n_matches}')\n",
    "\n",
    "    # Iterates through the amount of possible pages\n",
    "    for i in range(1, max(1, int(n_matches / c.RECORDS_PER_PAGE)) + 1):\n",
    "        # Creates a list to hold the wine data\n",
    "        wine_data = []\n",
    "\n",
    "        # Adds the page to the payload\n",
    "        payload['page'] = i\n",
    "\n",
    "        print(f'Page: {payload[\"page\"]}')\n",
    "\n",
    "        # Performs the request and scraps the URLs\n",
    "        res = r.get('explore/explore', params=payload)\n",
    "        matches = res.json()['explore_vintage']['matches']\n",
    "\n",
    "        # Iterates over every match\n",
    "        for match in matches:\n",
    "\n",
    "            vintage_wine = match['vintage']['wine']\n",
    "            vintage_statistics = match['vintage']['statistics']\n",
    "\n",
    "            wine = {\n",
    "                'wine_id': vintage_wine['id'] if vintage_wine else None,\n",
    "                'wine_name': vintage_wine['name'] if vintage_wine else None,\n",
    "                'winery': vintage_wine['winery']['name'] if vintage_wine and vintage_wine['winery'] else None,\n",
    "                'year': match['vintage']['year'] if match['vintage']['year'] else None,\n",
    "                'country': vintage_wine['region']['country']['name'] if vintage_wine and vintage_wine['region'] and vintage_wine['region']['country'] else None,\n",
    "                'region': vintage_wine['region']['name'] if vintage_wine and vintage_wine['region'] else None,\n",
    "                'avg_rating_wine': vintage_statistics['wine_ratings_average'] if vintage_statistics else None,\n",
    "                'num_rating_wine': vintage_statistics['wine_ratings_count'] if vintage_statistics else None,\n",
    "                'avg_rating_wine_year': vintage_statistics['ratings_average'] if vintage_statistics else None,\n",
    "                'num_rating_wine_year': vintage_statistics['ratings_count'] if vintage_statistics else None,\n",
    "                'price': match['prices'][0]['amount'] if match['prices'] else None,\n",
    "                'url': match['prices'][0]['url'] if match['prices'] else None,\n",
    "                'volume': match['prices'][0]['bottle_type']['volume_ml'] if match['prices'] else None,\n",
    "                'currency': match['prices'][0]['currency']['code'] if match['prices'] else None,\n",
    "                'body': vintage_wine['style']['body'] if vintage_wine and vintage_wine['style'] else None,\n",
    "                'taste_intensity': vintage_wine['taste']['structure']['intensity'] if vintage_wine and vintage_wine['taste'] and vintage_wine['taste']['structure'] else None,\n",
    "                'taste_tannin': vintage_wine['taste']['structure']['tannin'] if vintage_wine and vintage_wine['taste'] and vintage_wine['taste']['structure'] else None,\n",
    "                'taste_sweetness': vintage_wine['taste']['structure']['sweetness'] if vintage_wine and vintage_wine['taste'] and vintage_wine['taste']['structure'] else None,\n",
    "                'taste_acidity': vintage_wine['taste']['structure']['acidity'] if vintage_wine and vintage_wine['taste'] and vintage_wine['taste']['structure'] else None,\n",
    "                'taste_fizziness': vintage_wine['taste']['structure']['fizziness'] if vintage_wine and vintage_wine['taste'] and vintage_wine['taste']['structure'] else None,\n",
    "                'grapes': vintage_wine['style']['grapes'] if vintage_wine and vintage_wine['style'] else None,\n",
    "                'flavor': vintage_wine['taste']['flavor'] if vintage_wine and vintage_wine['taste'] else None,\n",
    "                'food': vintage_wine['style']['food'] if vintage_wine and vintage_wine['style'] else None,\n",
    "                'description': vintage_wine['style']['description'] if vintage_wine and vintage_wine['style'] else None\n",
    "                #'interesting_fact': vintage_wine['style']['interesting_facts'] if vintage_wine and vintage_wine['style'] else None,\n",
    "                #'varietal_name': vintage_wine['style']['varietal_name'] if vintage_wine and vintage_wine['style'] else None\n",
    "            }\n",
    "\n",
    "            wine_data.append(wine)\n",
    "\n",
    "        # Convert wine_data to DataFrame\n",
    "        wine_data_df = pd.DataFrame(wine_data)\n",
    "            \n",
    "        # Concatenate wine_data_df with wine_df\n",
    "        wine_df = pd.concat([wine_df, wine_data_df], ignore_index=True)\n",
    "    \n",
    "    return wine_df\n"
   ]
  },
  {
   "cell_type": "markdown",
   "metadata": {},
   "source": [
    "# Scraping Process <a id=\"3\"></a>"
   ]
  },
  {
   "cell_type": "code",
   "execution_count": null,
   "metadata": {},
   "outputs": [],
   "source": [
    "# 1. Select highest price on vivino (e.g. 2,500)\n",
    "price_list = list(range(0,2500,1))"
   ]
  },
  {
   "cell_type": "code",
   "execution_count": null,
   "metadata": {},
   "outputs": [],
   "source": [
    "# 2. Scrap wine from vivino in small steps with a for loop and saves it to a dataframe\n",
    "df_list = []\n",
    "for price in price_list:\n",
    "    min_price = price\n",
    "    status = (min_price/price_list[-1] * 100)\n",
    "    print(f'Scraping status: {status}%')\n",
    "    df = wine_scraper(country, min_price)\n",
    "    df_list.append(df)\n",
    "\n",
    "df_raw = pd.concat(df_list)\n"
   ]
  },
  {
   "cell_type": "code",
   "execution_count": null,
   "metadata": {},
   "outputs": [],
   "source": [
    "# 3. Check how many rows\n",
    "df_raw.shape"
   ]
  },
  {
   "cell_type": "code",
   "execution_count": null,
   "metadata": {},
   "outputs": [],
   "source": [
    "# 4. Save it to csv\n",
    "df_raw.to_csv(f'data_raw.csv')"
   ]
  }
 ],
 "metadata": {
  "kernelspec": {
   "display_name": "viviner-env",
   "language": "python",
   "name": "python3"
  },
  "language_info": {
   "codemirror_mode": {
    "name": "ipython",
    "version": 3
   },
   "file_extension": ".py",
   "mimetype": "text/x-python",
   "name": "python",
   "nbconvert_exporter": "python",
   "pygments_lexer": "ipython3",
   "version": "3.8.19"
  }
 },
 "nbformat": 4,
 "nbformat_minor": 2
}
